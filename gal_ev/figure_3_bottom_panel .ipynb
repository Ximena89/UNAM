{
 "cells": [
  {
   "cell_type": "code",
   "execution_count": 5,
   "metadata": {},
   "outputs": [],
   "source": [
    "import numpy as np\n",
    "import matplotlib.pyplot as plt"
   ]
  },
  {
   "cell_type": "code",
   "execution_count": 22,
   "metadata": {},
   "outputs": [],
   "source": [
    "def compute_abundance_matching_RodriguezPuebla(z, Mvirz):\n",
    "    #Rodriguez-Puebla 2017\n",
    "    #Relationship between initial DM halo and stellar mass \n",
    "    #Section 3.2 Parametrization of the SHMR (stellar to mass relation halo) Rodriguez-Puebla 2017\n",
    "    #Inputs: redshift and virial mass at that redshift in solar masses \n",
    "    #Returns the stellar mass in solar masses \n",
    "    \n",
    "    M = Mvirz\n",
    "\n",
    "    def P(x, y, z):\n",
    "        return y*z - x*z/(1+z)\n",
    "\n",
    "    def Q(z):\n",
    "        return np.exp(-4/(1.+z)**2)\n",
    "\n",
    "    def g(x, a, g, d):\n",
    "        return (-np.log10(10**(-a*x)+1.) +\n",
    "                d*(np.log10(1.+np.exp(x)))**g/(1.+np.exp(10**(-x))))\n",
    "\n",
    "    al = (1.975, 0.714, 0.042)\n",
    "    de = (3.390, -0.472, -0.931)\n",
    "    ga = (0.498, -0.157)\n",
    "    ep = (-1.758, 0.110, -0.061, -0.023)\n",
    "    M0 = (11.548, -1.297, -0.026)\n",
    "    \n",
    "    alpha = al[0] + P(al[1], al[2], z) * Q(z)\n",
    "    delta = de[0] + P(de[1], de[2], z) * Q(z)\n",
    "    gamma = ga[0] + P(ga[1], 0, z) * Q(z)\n",
    "\n",
    "    eps = 10**(ep[0] + P(ep[1], ep[2], z)*Q(z) + P(ep[3], 0, z))\n",
    "    M1 = 10**(M0[0] + P(M0[1], M0[2], z)*Q(z))\n",
    "\n",
    "    x = np.log10(M/M1)\n",
    "    g1 = g(x, alpha, gamma, delta)\n",
    "    g0 = g(0, alpha, gamma, delta)\n",
    "\n",
    "    Ms = 10**(np.log10(eps*M1) + g1 - g0)\n",
    "    \n",
    "\n",
    "    return Ms\n",
    "\n",
    "            \n",
    "def Mstar(Mvir0, eps_SF):\n",
    "    \n",
    "    \n",
    "    om_b = 0.045\n",
    "    \n",
    "    om_m = 0.3\n",
    "    \n",
    "    #eps_SF = 0.5\n",
    "    \n",
    "    Mh = Mvir0\n",
    "    \n",
    "    Ms= eps_SF*(om_b/om_m)*Mh\n",
    "    \n",
    "    return Ms  "
   ]
  },
  {
   "cell_type": "code",
   "execution_count": 42,
   "metadata": {},
   "outputs": [
    {
     "data": {
      "text/plain": [
       "8881579961.515226"
      ]
     },
     "execution_count": 42,
     "metadata": {},
     "output_type": "execute_result"
    }
   ],
   "source": [
    "compute_abundance_matching_RodriguezPuebla(3, 1e12)"
   ]
  },
  {
   "cell_type": "code",
   "execution_count": 43,
   "metadata": {},
   "outputs": [],
   "source": [
    "    \n",
    "#z = 0\n",
    "#redshift = np.linspace (z, 10, 100)\n",
    "Mhalo = np.logspace(10, 15, 100)\n",
    "Mvir0 = (1e11, 1e12, 1e13, 1e14, 1e15)    \n",
    "    \n",
    "Mhab = compute_abundance_matching_RodriguezPuebla(0, Mhalo)\n",
    "\n",
    "\n",
    "Msall1= Mstar(Mhalo, 10)\n",
    "Msall2= Mstar(Mhalo, 0.1)\n",
    "Msall3 = Mstar(Mhalo, .5)\n",
    "Msall4 = Mstar(Mhalo, .03)\n",
    "\n",
    "\n",
    "#print(Mhalo)\n",
    "Msall_list = [Mstar(i, .5) for i in Mvir0]\n",
    "#print(Msall2)"
   ]
  },
  {
   "cell_type": "code",
   "execution_count": 46,
   "metadata": {},
   "outputs": [
    {
     "data": {
      "image/png": "[encoded data removed]",
      "text/plain": [
       "<Figure size 432x288 with 1 Axes>"
      ]
     },
     "metadata": {
      "needs_background": "light"
     },
     "output_type": "display_data"
    }
   ],
   "source": [
    "plt.title('Abundance matching fit of Rodriguez-Puebla et al. 2017')\n",
    "#plt.plot(np.log10(Mhalo), np.log10(Ms), '-k')\n",
    "\n",
    "plt.plot(np.log10(Mhalo), np.log10(Msall1), '--', color='black')\n",
    "plt.plot(np.log10(Mhalo), np.log10(Msall2), '--', color='red')\n",
    "plt.plot(np.log10(Mhalo), np.log10(Msall3), '--', color='blue')\n",
    "plt.plot(np.log10(Mhalo), np.log10(Msall4), '--', color='magenta')\n",
    "plt.plot(np.log10(Mhalo), np.log10(Mhab), '-k')\n",
    "plt.xlabel('log Mh')\n",
    "plt.ylabel('log M*')\n",
    "\n",
    "plt.show()\n",
    "        "
   ]
  },
  {
   "cell_type": "code",
   "execution_count": null,
   "metadata": {},
   "outputs": [],
   "source": []
  }
 ],
 "metadata": {
  "kernelspec": {
   "display_name": "Python 3",
   "language": "python",
   "name": "python3"
  },
  "language_info": {
   "codemirror_mode": {
    "name": "ipython",
    "version": 3
   },
   "file_extension": ".py",
   "mimetype": "text/x-python",
   "name": "python",
   "nbconvert_exporter": "python",
   "pygments_lexer": "ipython3",
   "version": "3.6.6"
  }
 },
 "nbformat": 4,
 "nbformat_minor": 2
}
