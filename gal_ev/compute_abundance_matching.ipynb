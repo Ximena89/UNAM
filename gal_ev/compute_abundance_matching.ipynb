{
 "cells": [
  {
   "cell_type": "code",
   "execution_count": 3,
   "metadata": {},
   "outputs": [
    {
     "data": {
      "image/png": "[encoded data removed]",
      "text/plain": [
       "<Figure size 432x288 with 1 Axes>"
      ]
     },
     "metadata": {
      "needs_background": "light"
     },
     "output_type": "display_data"
    }
   ],
   "source": [
    "import numpy as np\n",
    "import matplotlib.pyplot as plt\n",
    "\n",
    "def compute_abundance_matching_RodriguezPuebla(aexp, Mhalo):\n",
    "    \"\"\"Implement abundance matching fit of Rodriguez-Puebla et al. 2017\"\"\"\n",
    "\n",
    "    z = 1./aexp-1.0\n",
    "    M = np.array(Mhalo)\n",
    "\n",
    "    def P(x, y, z):\n",
    "        return y*z - x*z/(1+z)\n",
    "\n",
    "    def Q(z):\n",
    "        return np.exp(-4/(1.+z)**2)\n",
    "\n",
    "    def g(x, a, g, d):\n",
    "        return (-np.log10(10**(-a*x)+1.) +\n",
    "                d*(np.log10(1.+np.exp(x)))**g/(1.+np.exp(10**(-x))))\n",
    "\n",
    "    al = (1.975, 0.714, 0.042)\n",
    "    de = (3.390, -0.472, -0.931)\n",
    "    ga = (0.498, -0.157)\n",
    "    ep = (-1.758, 0.110, -0.061, -0.023)\n",
    "    M0 = (11.548, -1.297, -0.026)\n",
    "\n",
    "    alpha = al[0] + P(al[1], al[2], z) * Q(z)\n",
    "    delta = de[0] + P(de[1], de[2], z) * Q(z)\n",
    "    gamma = ga[0] + P(ga[1], 0, z) * Q(z)\n",
    "\n",
    "    eps = 10**(ep[0] + P(ep[1], ep[2], z)*Q(z) + P(ep[3], 0, z))\n",
    "    M1 = 10**(M0[0] + P(M0[1], M0[2], z)*Q(z))\n",
    "\n",
    "    x = np.log10(M/M1)\n",
    "    g1 = g(x, alpha, gamma, delta)\n",
    "    g0 = g(0, alpha, gamma, delta)\n",
    "\n",
    "    Ms = 10**(np.log10(eps*M1) + g1 - g0)\n",
    "\n",
    "    return Ms\n",
    "\n",
    "Mhalo = np.logspace(10, 15, 100)\n",
    "\n",
    "z = 0\n",
    "aexp = 1. / ( 1. + z)\n",
    "Ms = compute_abundance_matching_RodriguezPuebla(aexp, Mhalo)\n",
    "\n",
    "z = 2\n",
    "aexp = 1. / ( 1. + z)\n",
    "Ms2 = compute_abundance_matching_RodriguezPuebla(aexp, Mhalo)\n",
    "\n",
    "\n",
    "plt.title('Abundance matching fit of Rodriguez-Puebla et al. 2017')\n",
    "plt.plot(np.log10(Mhalo), np.log10(Ms), '-k')\n",
    "plt.plot(np.log10(Mhalo), np.log10(Ms2), '--k')\n",
    "plt.xlabel('log Mhalo')\n",
    "plt.ylabel('log Mstar')\n",
    "plt.show()"
   ]
  },
  {
   "cell_type": "code",
   "execution_count": null,
   "metadata": {},
   "outputs": [],
   "source": []
  }
 ],
 "metadata": {
  "kernelspec": {
   "display_name": "Python 3",
   "language": "python",
   "name": "python3"
  },
  "language_info": {
   "codemirror_mode": {
    "name": "ipython",
    "version": 3
   },
   "file_extension": ".py",
   "mimetype": "text/x-python",
   "name": "python",
   "nbconvert_exporter": "python",
   "pygments_lexer": "ipython3",
   "version": "3.6.6"
  }
 },
 "nbformat": 4,
 "nbformat_minor": 2
}
