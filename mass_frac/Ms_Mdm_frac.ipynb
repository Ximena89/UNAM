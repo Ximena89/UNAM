{
 "cells": [
  {
   "cell_type": "markdown",
   "metadata": {},
   "source": [
    "Project: Baryon mass fraction from galaxies at z=0 from survey"
   ]
  },
  {
   "cell_type": "code",
   "execution_count": 1,
   "metadata": {},
   "outputs": [],
   "source": [
    "import numpy as np\n",
    "import matplotlib.pyplot as plt\n",
    "import matplotlib\n",
    "import astropy.units as u\n",
    "import scipy\n",
    "from astropy import constants as const\n",
    "from scipy import optimize\n",
    "import scipy.integrate as integrate\n",
    "from scipy.integrate import quad \n",
    "from scipy.special import *\n",
    "import math\n"
   ]
  },
  {
   "cell_type": "code",
   "execution_count": 2,
   "metadata": {},
   "outputs": [],
   "source": [
    "# Sersic general equation for any n. Eq. 2.22 from Galaxy Formation & Evolution \n",
    "# Need to define Reff first\n",
    "# Bn 2n-0.324 (but only for n=>1) (B beta)\n",
    "# To write I(R) in terms of L_tot instead of I0:\n",
    "#         I(R)= {(L_tot*bn**2n)/(2*pi*Re**2*G(2n))} exp[-bn(R/Re)**(1/n)]\n",
    "# To write I(R) in terms of L_tot instead of Ie:\n",
    "#         I(R)= {(L_tot*bn**2n)/(2*pi*Re**2*G(2n)*exp(bn))} exp[-bn{(R/Re)**(1/n)-1}]\n",
    "\n",
    "\n",
    "Mgsol = 5.11 #banda g\n",
    "Misol = 4.53 #banda i\n",
    "\n",
    "def I0_to_Ie(I0):\n",
    "    #units Lsun / kpc**2\n",
    "    \n",
    "    Bn = 2*n-0.324 \n",
    "    \n",
    "    return I0/np.exp(Bn)\n",
    "\n",
    "def Ie_to_I0(Ie):\n",
    "    #units Lsun / kpc**2\n",
    "    \n",
    "    Bn = 2*n-0.324 \n",
    "    \n",
    "    return Ie*np.exp(Bn)\n",
    "    \n",
    "    \n",
    "\n",
    "def Ltot_to_I0(Ltot, Re, n):\n",
    "    # Function that transform a given luminosity to I0 from eq 2.22 and 2.24\n",
    "    # Takes in total luminosity, effective radius and sersic index\n",
    "    # Returns I0\n",
    "    # Ltot*(Bn)**(2n) / Re**2/(2*np.pi*n)/gamma\n",
    "    \n",
    "    Bn = 2*n-0.324\n",
    "    \n",
    "    gm = gamma(2*n)  #gamma function\n",
    "    \n",
    "    I0 = Ltot*(Bn)**(2*n) / Re**2/(2*np.pi*n)/gm\n",
    "    \n",
    "    return I0\n",
    "\n",
    "def Ltot_to_Ie(Ltot, Re, n):\n",
    "    # Function that transform a given luminosity to I0 from eq 2.22 and 2.24\n",
    "    # Takes in total luminosity, effective radius and sersic index\n",
    "    # Returns Ie\n",
    "    # Ltot*(Bn)**(2n) / Re**2/(2*np.pi*n)/gamma/np.exp(Bn)\n",
    "    \n",
    "    Bn = 2*n-0.324\n",
    "    \n",
    "    gm = gamma(2*n)  #gamma function\n",
    "    \n",
    "    Ie = Ltot*(Bn)**(2*n) / Re**2/(2*np.pi*n)/gm/np.exp(Bn)\n",
    "    \n",
    "    return Ie\n",
    "    \n",
    "\n",
    "def sersic_profile(r, Ie, n, Re):\n",
    "    # I0 puede ser L_tot\n",
    "    # The surface brightness profile of spheroidal galaxies is generally well fit by the Sersic profile\n",
    "    # Compare to sersic mass density \n",
    "    # I(R) = I0*exp[-Bn(R/Re)**(1/n)] = Ie*exp[-Bn{(R/Re)**(1/n)-1}]\n",
    "    # Ie = I0/exp(Bn)\n",
    "    # units are Lsun / kpc**2\n",
    "    # Eq 2.22 from Galaxy Formation & Evolution\n",
    "   \n",
    "    Bn = 2*n-0.324\n",
    "    ratio = (r/Re)**(1/n)\n",
    "    exponent = -Bn*(ratio-1)\n",
    "    \n",
    "    return Ie*np.exp(exponent)\n",
    "\n",
    "\n",
    "\n",
    "def L_profile(r, Ie, n, Re):\n",
    "    # Total luminosity. Eq. 2.24 from Galaxy Formation & Evolution \n",
    "    # The total luminosity of a spherical system with a Sersic profile is given by this equation.\n",
    "    # Compare to mass_prof_disk/sph from old code \n",
    "    # L = 2*pi*integral(I(R)RdR)\n",
    "    # integrate sersic profile from 0 to R\n",
    "    \n",
    "    def L(r, Ie, n, Re):\n",
    "        \n",
    "        return 2*np.pi*sersic_profile(r, Ie, n, Re)*r\n",
    "    \n",
    "    I = integrate.quad(L, 0.1, r, args=(Ie, n, Re))\n",
    "    \n",
    "    ansI = I[0]\n",
    "    \n",
    "    return ansI\n",
    "\n",
    "def L_tot(Ie, n, Re):\n",
    "    # Total luminosity. Eq. 2.24 from Galaxy Formation & Evolution \n",
    "    # The total luminosity of a spherical system with a Sersic profile is given by this equation.\n",
    "    # Compare to mass_prof_disk/sph from old code \n",
    "    # L = 2*pi*integral(I(R)RdR) = (2*pi*G(2n)/(Bn)**(2*n))*I0*Re**2\n",
    "    # integrate sersic profile from 0 to inf\n",
    "    \n",
    "    Bn = 2*n-0.324\n",
    "    \n",
    "    gm = gamma(2*n)  #gamma function buscar funcion completa\n",
    "    \n",
    "    I0 = Ie*np.exp(Bn)    \n",
    "    \n",
    "    L = (2*np.pi*gm/(Bn)**(2*n))*I0*Re**2\n",
    "    \n",
    "    return L\n",
    "\n",
    "def abs_mag_to_log10Lx(Mabs_x, Mabs_xsol):\n",
    "#     Input: x = band, Mx = absolute magnitude of a given object at a given band\n",
    "#     Returns the total luminosity at a given band of the galaxy\n",
    "#     M_gsol = 5.11 #banda g \n",
    "#     M_isol = 4.53 #banda i\n",
    "#     Log(L_x/L_xsol) = -0.4* (M_x - M_xsol) \n",
    "#     Eq 2.6 from Galaxy Formation & Evolution\n",
    "\n",
    "    \n",
    "    return np.exp(-0.4*(Mx-Mxs)) #### exp(log(L_x/L_xsun))\n",
    "\n",
    "\n",
    "def Lx_to_abs_mag(Lx, Mabs_xsol):\n",
    "\n",
    "    return -2.5 * np.log10(Lx) + Mabs_xsol #### Absolute Magnitude\n",
    "\n",
    "\n",
    "def M_x(r, Mabs_x, Mabs_xsol, Re, n):\n",
    "    # Computes the absolute magnitude as a function of radius\n",
    "    # Inputs: Lx = luminosity of a given band & M_xsun = magnitude of the sun of a given band\n",
    "    # M_x  =  -2.5 *log(L_x/L_xsol) + M_xsol\n",
    "    \n",
    "    log10Lx = abs_mag_to_log10Lx(Mabs_x, Mabs_xsol) # coverts the given magnitude to the total luminosty of the given band\n",
    "    \n",
    "    Lx = 10**(log10Lx)\n",
    "    \n",
    "    Iex = Ltot_to_Ie(Lx, Re, n) # converts the total luminosity to the intensity\n",
    "    \n",
    "    Lx_prof  = L_profile(r, Iex, n, Re) # coverts the intensity of the given band to the luminosty profile as a\n",
    "                                         # function of radius\n",
    "       \n",
    "        \n",
    "    return Lx_to_abs_mag(Lx_prof,Mabs_xsol)\n",
    "\n",
    "\n",
    "#### how can it return Mx, if Mx is an input necessary to compute the luminosity at x band L_x?\n",
    "\n",
    "\n",
    "\n",
    "def color(r, Mabs_x, Mabs_xsol, Mabs_y, Mabs_ysol, Re_x, Re_y, n_x, n_y):\n",
    "    \n",
    "# difference between absolute magnitudes between two bands \n",
    "# color as a function of radius\n",
    "# inputs:\n",
    "#       M_g, M_i\n",
    "    \n",
    "    MX = M_x(r, Mabs_x, Mabs_xsol, Re_x, n_x)\n",
    "    \n",
    "    MY = M_x(r, Mabs_y, Mabs_ysol, Re_y, n_y)\n",
    "  \n",
    "    return MX - MY\n",
    "    \n",
    "    \n",
    "    \n",
    "# def stellar_mass(Mg, Mi, i):\n",
    "#     # Log(Ms/Msol) = -0.68 + 0.73 * (g-i)  + log(L_i/L_isol)\n",
    "    \n",
    "#     L_i = abs_mag_to_Lx(Mi, i)\n",
    "    \n",
    "#     col = color(Mg, Mi)\n",
    "    \n",
    "#     return np.exp(0.68 + 0.73 * (col)  + np.log(L_i))\n",
    "\n",
    "    \n",
    "\n",
    "    \n",
    "\n",
    "\n"
   ]
  },
  {
   "cell_type": "code",
   "execution_count": 10,
   "metadata": {
    "scrolled": true
   },
   "outputs": [
    {
     "data": {
      "image/png": "[encoded data removed]",
      "text/plain": [
       "<Figure size 720x720 with 1 Axes>"
      ]
     },
     "metadata": {
      "needs_background": "light"
     },
     "output_type": "display_data"
    }
   ],
   "source": [
    "####### Sersic Profile ########\n",
    "\n",
    "r = np.arange(0.1, 30, 0.1)\n",
    "\n",
    "\n",
    "sm_n025 = sersic_profile(r, 1, 0.25, 10)\n",
    "sm_n050 = sersic_profile(r, 1, 0.50, 10)\n",
    "sm_n1 = sersic_profile(r, 1, 1, 10)\n",
    "sm_n4 = sersic_profile(r, 1, 4, 10)\n",
    "sm_n8 = sersic_profile(r, 1, 8, 10)\n",
    "\n",
    "fig = plt.figure(figsize=(10,10))\n",
    "ax = plt.subplot(111)\n",
    "\n",
    "plt.title('Sersic profile')\n",
    "plt.semilogy(r, (sm_n1), '-', color='teal', label='n=1')\n",
    "plt.semilogy(r, (sm_n4), '-', color='salmon', label='n=4')\n",
    "plt.semilogy(r, (sm_n8), '-', color='plum', label='n=8')\n",
    "plt.semilogy(r, (sm_n025), '-', color='turquoise', label='n=0.25')\n",
    "plt.semilogy(r, (sm_n050), '-', color='gold', label='n=0.50')\n",
    "label_size = 22\n",
    "matplotlib.rcParams['xtick.labelsize'] = label_size \n",
    "matplotlib.rcParams['ytick.labelsize'] = label_size\n",
    "plt.xlabel('Radius (kpc)', fontsize=22)\n",
    "plt.ylabel('Log(I)  $L_\\odot/kpc^2$', fontsize=22)\n",
    "plt.legend(loc='upper right', fontsize = 'x-large')\n",
    "plt.show()"
   ]
  },
  {
   "cell_type": "code",
   "execution_count": 11,
   "metadata": {},
   "outputs": [],
   "source": [
    "# We are going to get the effective radius not form the luminosity but from the mass\n",
    "# at large radius make sure L-profile  is equal to Ltot\n",
    "# at 30kpc or wherever it flattens\n",
    "# L_profile (r, Ie, n, Re)\n",
    "# L_tot (Ie, n, Re)\n",
    "# 2 figures, L_prof, color vs radius,\n",
    "\n",
    "#############Data#########################\n",
    "# Banda g del SDSS: 4770 angstroms (green)\n",
    "# Magnitud Absoluta = M_g = -19.80323 magnitudes\n",
    "# Radio efectivo = Re = 3.91504 kpc\n",
    "# Indice de Sersic = ns = 3.6546\n",
    "###########Data#########################\n",
    "# Banda i del SDSS: 7625 angstroms\n",
    "# Magnitud Absoluta = M_i = -20.90624 magnitudes\n",
    "# Radio efectivo = Re = 4.10757 kpc\n",
    "# Indice de Sersic = ns = 3.56484"
   ]
  },
  {
   "cell_type": "code",
   "execution_count": 12,
   "metadata": {},
   "outputs": [
    {
     "name": "stdout",
     "output_type": "stream",
     "text": [
      "21275.086090704677\n",
      "26225.722947603183\n"
     ]
    }
   ],
   "source": [
    "#Test magnitude to luminosity works\n",
    "print(abs_mag_to_Lx(-19.80323, 'g'))\n",
    "print(abs_mag_to_Lx(-20.90624, 'i'))\n",
    "\n"
   ]
  },
  {
   "cell_type": "code",
   "execution_count": 13,
   "metadata": {},
   "outputs": [
    {
     "name": "stdout",
     "output_type": "stream",
     "text": [
      "L_g =  21275.086090704677\n",
      "L_i =  26225.722947603183\n",
      "Ie_g =  63.982581179032444\n",
      "Ie_i =  72.51241195137757\n"
     ]
    },
    {
     "ename": "ValueError",
     "evalue": "The truth value of an array with more than one element is ambiguous. Use a.any() or a.all()",
     "output_type": "error",
     "traceback": [
      "\u001b[0;31m---------------------------------------------------------------------------\u001b[0m",
      "\u001b[0;31mValueError\u001b[0m                                Traceback (most recent call last)",
      "\u001b[0;32m<ipython-input-13-0cc03afcb0e8>\u001b[0m in \u001b[0;36m<module>\u001b[0;34m()\u001b[0m\n\u001b[1;32m     39\u001b[0m \u001b[0;31m# Testing absolute magnitude function\u001b[0m\u001b[0;34m\u001b[0m\u001b[0;34m\u001b[0m\u001b[0m\n\u001b[1;32m     40\u001b[0m \u001b[0;34m\u001b[0m\u001b[0m\n\u001b[0;32m---> 41\u001b[0;31m \u001b[0mMg\u001b[0m \u001b[0;34m=\u001b[0m \u001b[0mM_x\u001b[0m\u001b[0;34m(\u001b[0m\u001b[0mr\u001b[0m\u001b[0;34m,\u001b[0m \u001b[0mMxg\u001b[0m\u001b[0;34m,\u001b[0m \u001b[0;34m'g'\u001b[0m\u001b[0;34m,\u001b[0m \u001b[0mRg\u001b[0m\u001b[0;34m,\u001b[0m \u001b[0mng\u001b[0m\u001b[0;34m)\u001b[0m  \u001b[0;31m###### this doens't make sense\u001b[0m\u001b[0;34m\u001b[0m\u001b[0m\n\u001b[0m\u001b[1;32m     42\u001b[0m \u001b[0mMi\u001b[0m \u001b[0;34m=\u001b[0m \u001b[0mM_x\u001b[0m\u001b[0;34m(\u001b[0m\u001b[0mr\u001b[0m\u001b[0;34m,\u001b[0m \u001b[0mMxi\u001b[0m\u001b[0;34m,\u001b[0m \u001b[0;34m'i'\u001b[0m\u001b[0;34m,\u001b[0m \u001b[0mRi\u001b[0m\u001b[0;34m,\u001b[0m \u001b[0mni\u001b[0m\u001b[0;34m)\u001b[0m  \u001b[0;31m##### is this only to make it a function of radius?\u001b[0m\u001b[0;34m\u001b[0m\u001b[0m\n\u001b[1;32m     43\u001b[0m \u001b[0;34m\u001b[0m\u001b[0m\n",
      "\u001b[0;32m<ipython-input-9-945437a0df67>\u001b[0m in \u001b[0;36mM_x\u001b[0;34m(r, Mx, x, Re, n)\u001b[0m\n\u001b[1;32m    136\u001b[0m     \u001b[0mIex\u001b[0m \u001b[0;34m=\u001b[0m \u001b[0mLtot_to_Ie\u001b[0m\u001b[0;34m(\u001b[0m\u001b[0mLx\u001b[0m\u001b[0;34m,\u001b[0m \u001b[0mRe\u001b[0m\u001b[0;34m,\u001b[0m \u001b[0mn\u001b[0m\u001b[0;34m)\u001b[0m \u001b[0;31m# converts the total luminosity to the intensity\u001b[0m\u001b[0;34m\u001b[0m\u001b[0m\n\u001b[1;32m    137\u001b[0m \u001b[0;34m\u001b[0m\u001b[0m\n\u001b[0;32m--> 138\u001b[0;31m     \u001b[0mLx_prof\u001b[0m  \u001b[0;34m=\u001b[0m \u001b[0mL_profile\u001b[0m\u001b[0;34m(\u001b[0m\u001b[0mr\u001b[0m\u001b[0;34m,\u001b[0m \u001b[0mIex\u001b[0m\u001b[0;34m,\u001b[0m \u001b[0mn\u001b[0m\u001b[0;34m,\u001b[0m \u001b[0mRe\u001b[0m\u001b[0;34m)\u001b[0m \u001b[0;31m# coverts the intensity of the given band to the luminosty profile as a\u001b[0m\u001b[0;34m\u001b[0m\u001b[0m\n\u001b[0m\u001b[1;32m    139\u001b[0m                                          \u001b[0;31m# function of radius\u001b[0m\u001b[0;34m\u001b[0m\u001b[0;34m\u001b[0m\u001b[0m\n\u001b[1;32m    140\u001b[0m \u001b[0;34m\u001b[0m\u001b[0m\n",
      "\u001b[0;32m<ipython-input-9-945437a0df67>\u001b[0m in \u001b[0;36mL_profile\u001b[0;34m(r, Ie, n, Re)\u001b[0m\n\u001b[1;32m     83\u001b[0m         \u001b[0;32mreturn\u001b[0m \u001b[0;36m2\u001b[0m\u001b[0;34m*\u001b[0m\u001b[0mnp\u001b[0m\u001b[0;34m.\u001b[0m\u001b[0mpi\u001b[0m\u001b[0;34m*\u001b[0m\u001b[0msersic_profile\u001b[0m\u001b[0;34m(\u001b[0m\u001b[0mr\u001b[0m\u001b[0;34m,\u001b[0m \u001b[0mIe\u001b[0m\u001b[0;34m,\u001b[0m \u001b[0mn\u001b[0m\u001b[0;34m,\u001b[0m \u001b[0mRe\u001b[0m\u001b[0;34m)\u001b[0m\u001b[0;34m*\u001b[0m\u001b[0mr\u001b[0m\u001b[0;34m\u001b[0m\u001b[0m\n\u001b[1;32m     84\u001b[0m \u001b[0;34m\u001b[0m\u001b[0m\n\u001b[0;32m---> 85\u001b[0;31m     \u001b[0mI\u001b[0m \u001b[0;34m=\u001b[0m \u001b[0mintegrate\u001b[0m\u001b[0;34m.\u001b[0m\u001b[0mquad\u001b[0m\u001b[0;34m(\u001b[0m\u001b[0mL\u001b[0m\u001b[0;34m,\u001b[0m \u001b[0;36m0.1\u001b[0m\u001b[0;34m,\u001b[0m \u001b[0mr\u001b[0m\u001b[0;34m,\u001b[0m \u001b[0margs\u001b[0m\u001b[0;34m=\u001b[0m\u001b[0;34m(\u001b[0m\u001b[0mIe\u001b[0m\u001b[0;34m,\u001b[0m \u001b[0mn\u001b[0m\u001b[0;34m,\u001b[0m \u001b[0mRe\u001b[0m\u001b[0;34m)\u001b[0m\u001b[0;34m)\u001b[0m\u001b[0;34m\u001b[0m\u001b[0m\n\u001b[0m\u001b[1;32m     86\u001b[0m \u001b[0;34m\u001b[0m\u001b[0m\n\u001b[1;32m     87\u001b[0m     \u001b[0mansI\u001b[0m \u001b[0;34m=\u001b[0m \u001b[0mI\u001b[0m\u001b[0;34m[\u001b[0m\u001b[0;36m0\u001b[0m\u001b[0;34m]\u001b[0m\u001b[0;34m\u001b[0m\u001b[0m\n",
      "\u001b[0;32m/anaconda3/lib/python3.6/site-packages/scipy/integrate/quadpack.py\u001b[0m in \u001b[0;36mquad\u001b[0;34m(func, a, b, args, full_output, epsabs, epsrel, limit, points, weight, wvar, wopts, maxp1, limlst)\u001b[0m\n\u001b[1;32m    335\u001b[0m \u001b[0;34m\u001b[0m\u001b[0m\n\u001b[1;32m    336\u001b[0m     \u001b[0;31m# check the limits of integration: \\int_a^b, expect a < b\u001b[0m\u001b[0;34m\u001b[0m\u001b[0;34m\u001b[0m\u001b[0m\n\u001b[0;32m--> 337\u001b[0;31m     \u001b[0mflip\u001b[0m\u001b[0;34m,\u001b[0m \u001b[0ma\u001b[0m\u001b[0;34m,\u001b[0m \u001b[0mb\u001b[0m \u001b[0;34m=\u001b[0m \u001b[0mb\u001b[0m \u001b[0;34m<\u001b[0m \u001b[0ma\u001b[0m\u001b[0;34m,\u001b[0m \u001b[0mmin\u001b[0m\u001b[0;34m(\u001b[0m\u001b[0ma\u001b[0m\u001b[0;34m,\u001b[0m \u001b[0mb\u001b[0m\u001b[0;34m)\u001b[0m\u001b[0;34m,\u001b[0m \u001b[0mmax\u001b[0m\u001b[0;34m(\u001b[0m\u001b[0ma\u001b[0m\u001b[0;34m,\u001b[0m \u001b[0mb\u001b[0m\u001b[0;34m)\u001b[0m\u001b[0;34m\u001b[0m\u001b[0m\n\u001b[0m\u001b[1;32m    338\u001b[0m \u001b[0;34m\u001b[0m\u001b[0m\n\u001b[1;32m    339\u001b[0m     \u001b[0;32mif\u001b[0m \u001b[0mweight\u001b[0m \u001b[0;32mis\u001b[0m \u001b[0;32mNone\u001b[0m\u001b[0;34m:\u001b[0m\u001b[0;34m\u001b[0m\u001b[0m\n",
      "\u001b[0;31mValueError\u001b[0m: The truth value of an array with more than one element is ambiguous. Use a.any() or a.all()"
     ]
    }
   ],
   "source": [
    "# Sersic index\n",
    "ng = 3.6546\n",
    "ni = 3.56484\n",
    "\n",
    "# Effective Radius\n",
    "Rg = 3.91504\n",
    "Ri = 4.10757 \n",
    "\n",
    "# Magnitude\n",
    "Mxg = -19.80323\n",
    "Mxi = -20.90624\n",
    "\n",
    "# changing magnitude to luminosity\n",
    "L_g = abs_mag_to_Lx(-19.80323, 'g')\n",
    "L_i = abs_mag_to_Lx(-20.90624, 'i')\n",
    "\n",
    "\n",
    "print('L_g = ',L_g)\n",
    "print('L_i = ',L_i)\n",
    "\n",
    "\n",
    "# changing luminosity to intensity\n",
    "Ie_g = Ltot_to_Ie(L_g, Rg, ng)\n",
    "Ie_i = Ltot_to_Ie(L_i, Ri, ni)\n",
    "\n",
    "\n",
    "\n",
    "print('Ie_g = ', Ie_g)\n",
    "print('Ie_i = ',Ie_i)\n",
    "\n",
    "# Making sure l_profile is equal to L_tot at large radius\n",
    "\n",
    "LpG = L_profile(1000, Ie_g, ng, Rg)\n",
    "LtG = L_tot(Ie_g, ng, Rg)\n",
    "LpI = L_profile(1000, Ie_i, ni, Ri)\n",
    "LtI = L_tot(Ie_i, ni, Ri)\n",
    "\n",
    "\n",
    "# Testing absolute magnitude function\n",
    "\n",
    "Mg = M_x(r, Mxg, 'g', Rg, ng)  ###### this doens't make sense\n",
    "Mi = M_x(r, Mxi, 'i', Ri, ni)  ##### is this only to make it a function of radius?\n",
    "\n",
    "# Testing \"color\" function\n",
    "\n",
    "color = color(100, Mxg, Mxi, Rg, Ri, ng, ni)\n",
    "print\n",
    "\n"
   ]
  },
  {
   "cell_type": "code",
   "execution_count": null,
   "metadata": {},
   "outputs": [],
   "source": [
    "LpG, LtG"
   ]
  },
  {
   "cell_type": "code",
   "execution_count": null,
   "metadata": {},
   "outputs": [],
   "source": [
    " LpI, LtI"
   ]
  },
  {
   "cell_type": "code",
   "execution_count": 15,
   "metadata": {},
   "outputs": [
    {
     "ename": "ValueError",
     "evalue": "The truth value of an array with more than one element is ambiguous. Use a.any() or a.all()",
     "output_type": "error",
     "traceback": [
      "\u001b[0;31m---------------------------------------------------------------------------\u001b[0m",
      "\u001b[0;31mValueError\u001b[0m                                Traceback (most recent call last)",
      "\u001b[0;32m<ipython-input-15-7c0535bcc70f>\u001b[0m in \u001b[0;36m<module>\u001b[0;34m()\u001b[0m\n\u001b[1;32m      1\u001b[0m \u001b[0;31m#r= np.logspace(-2, 1.2, 50)\u001b[0m\u001b[0;34m\u001b[0m\u001b[0;34m\u001b[0m\u001b[0m\n\u001b[1;32m      2\u001b[0m \u001b[0;34m\u001b[0m\u001b[0m\n\u001b[0;32m----> 3\u001b[0;31m \u001b[0mLpG\u001b[0m \u001b[0;34m=\u001b[0m \u001b[0mL_profile\u001b[0m\u001b[0;34m(\u001b[0m\u001b[0mr\u001b[0m\u001b[0;34m,\u001b[0m \u001b[0mIe_g\u001b[0m\u001b[0;34m,\u001b[0m \u001b[0mng\u001b[0m\u001b[0;34m,\u001b[0m \u001b[0mRg\u001b[0m\u001b[0;34m)\u001b[0m\u001b[0;34m\u001b[0m\u001b[0m\n\u001b[0m\u001b[1;32m      4\u001b[0m \u001b[0;34m\u001b[0m\u001b[0m\n\u001b[1;32m      5\u001b[0m \u001b[0mLpI\u001b[0m \u001b[0;34m=\u001b[0m \u001b[0mL_profile\u001b[0m\u001b[0;34m(\u001b[0m\u001b[0mr\u001b[0m\u001b[0;34m,\u001b[0m \u001b[0mIe_i\u001b[0m\u001b[0;34m,\u001b[0m \u001b[0mni\u001b[0m\u001b[0;34m,\u001b[0m \u001b[0mRi\u001b[0m\u001b[0;34m)\u001b[0m\u001b[0;34m\u001b[0m\u001b[0m\n",
      "\u001b[0;32m<ipython-input-9-945437a0df67>\u001b[0m in \u001b[0;36mL_profile\u001b[0;34m(r, Ie, n, Re)\u001b[0m\n\u001b[1;32m     83\u001b[0m         \u001b[0;32mreturn\u001b[0m \u001b[0;36m2\u001b[0m\u001b[0;34m*\u001b[0m\u001b[0mnp\u001b[0m\u001b[0;34m.\u001b[0m\u001b[0mpi\u001b[0m\u001b[0;34m*\u001b[0m\u001b[0msersic_profile\u001b[0m\u001b[0;34m(\u001b[0m\u001b[0mr\u001b[0m\u001b[0;34m,\u001b[0m \u001b[0mIe\u001b[0m\u001b[0;34m,\u001b[0m \u001b[0mn\u001b[0m\u001b[0;34m,\u001b[0m \u001b[0mRe\u001b[0m\u001b[0;34m)\u001b[0m\u001b[0;34m*\u001b[0m\u001b[0mr\u001b[0m\u001b[0;34m\u001b[0m\u001b[0m\n\u001b[1;32m     84\u001b[0m \u001b[0;34m\u001b[0m\u001b[0m\n\u001b[0;32m---> 85\u001b[0;31m     \u001b[0mI\u001b[0m \u001b[0;34m=\u001b[0m \u001b[0mintegrate\u001b[0m\u001b[0;34m.\u001b[0m\u001b[0mquad\u001b[0m\u001b[0;34m(\u001b[0m\u001b[0mL\u001b[0m\u001b[0;34m,\u001b[0m \u001b[0;36m0.1\u001b[0m\u001b[0;34m,\u001b[0m \u001b[0mr\u001b[0m\u001b[0;34m,\u001b[0m \u001b[0margs\u001b[0m\u001b[0;34m=\u001b[0m\u001b[0;34m(\u001b[0m\u001b[0mIe\u001b[0m\u001b[0;34m,\u001b[0m \u001b[0mn\u001b[0m\u001b[0;34m,\u001b[0m \u001b[0mRe\u001b[0m\u001b[0;34m)\u001b[0m\u001b[0;34m)\u001b[0m\u001b[0;34m\u001b[0m\u001b[0m\n\u001b[0m\u001b[1;32m     86\u001b[0m \u001b[0;34m\u001b[0m\u001b[0m\n\u001b[1;32m     87\u001b[0m     \u001b[0mansI\u001b[0m \u001b[0;34m=\u001b[0m \u001b[0mI\u001b[0m\u001b[0;34m[\u001b[0m\u001b[0;36m0\u001b[0m\u001b[0;34m]\u001b[0m\u001b[0;34m\u001b[0m\u001b[0m\n",
      "\u001b[0;32m/anaconda3/lib/python3.6/site-packages/scipy/integrate/quadpack.py\u001b[0m in \u001b[0;36mquad\u001b[0;34m(func, a, b, args, full_output, epsabs, epsrel, limit, points, weight, wvar, wopts, maxp1, limlst)\u001b[0m\n\u001b[1;32m    335\u001b[0m \u001b[0;34m\u001b[0m\u001b[0m\n\u001b[1;32m    336\u001b[0m     \u001b[0;31m# check the limits of integration: \\int_a^b, expect a < b\u001b[0m\u001b[0;34m\u001b[0m\u001b[0;34m\u001b[0m\u001b[0m\n\u001b[0;32m--> 337\u001b[0;31m     \u001b[0mflip\u001b[0m\u001b[0;34m,\u001b[0m \u001b[0ma\u001b[0m\u001b[0;34m,\u001b[0m \u001b[0mb\u001b[0m \u001b[0;34m=\u001b[0m \u001b[0mb\u001b[0m \u001b[0;34m<\u001b[0m \u001b[0ma\u001b[0m\u001b[0;34m,\u001b[0m \u001b[0mmin\u001b[0m\u001b[0;34m(\u001b[0m\u001b[0ma\u001b[0m\u001b[0;34m,\u001b[0m \u001b[0mb\u001b[0m\u001b[0;34m)\u001b[0m\u001b[0;34m,\u001b[0m \u001b[0mmax\u001b[0m\u001b[0;34m(\u001b[0m\u001b[0ma\u001b[0m\u001b[0;34m,\u001b[0m \u001b[0mb\u001b[0m\u001b[0;34m)\u001b[0m\u001b[0;34m\u001b[0m\u001b[0m\n\u001b[0m\u001b[1;32m    338\u001b[0m \u001b[0;34m\u001b[0m\u001b[0m\n\u001b[1;32m    339\u001b[0m     \u001b[0;32mif\u001b[0m \u001b[0mweight\u001b[0m \u001b[0;32mis\u001b[0m \u001b[0;32mNone\u001b[0m\u001b[0;34m:\u001b[0m\u001b[0;34m\u001b[0m\u001b[0m\n",
      "\u001b[0;31mValueError\u001b[0m: The truth value of an array with more than one element is ambiguous. Use a.any() or a.all()"
     ]
    }
   ],
   "source": [
    "#r= np.logspace(-2, 1.2, 50)\n",
    "\n",
    "LpG = L_profile(r, Ie_g, ng, Rg)\n",
    "\n",
    "LpI = L_profile(r, Ie_i, ni, Ri)\n",
    "\n",
    "\n",
    "LpG= []\n",
    "LpI = []\n",
    "radius = np.logspace(-1, 1.2, 100)\n",
    "for i in range(0, 100):\n",
    "    rg.append(L_profile(radius[i], Ie_g, ng, Rg))\n",
    "    ri.append(L_profile(radius[i], Ie_i, ni, Ri))\n",
    "\n",
    "plt.title('Luminosity profile g & i band vs radius')\n",
    "plt.plot(np.log10(), np.log10(radius), '-', color='blue', label='g')\n",
    "plt.plot(np.log10(LpI), np.log10(radius), '-', color='red', label='i')\n",
    "\n",
    "plt.xlabel('radius [kpc]')\n",
    "plt.ylabel('Luminosity profile log($L_\\odot$)')\n",
    "plt.xlim(9, 12)\n",
    "plt.ylim(-0.5,1.5)\n",
    "plt.legend()\n",
    "plt.show()"
   ]
  },
  {
   "cell_type": "code",
   "execution_count": 7,
   "metadata": {},
   "outputs": [
    {
     "data": {
      "text/plain": [
       "1.0"
      ]
     },
     "execution_count": 7,
     "metadata": {},
     "output_type": "execute_result"
    }
   ],
   "source": [
    "gamma(1)"
   ]
  },
  {
   "cell_type": "code",
   "execution_count": null,
   "metadata": {},
   "outputs": [],
   "source": []
  },
  {
   "cell_type": "code",
   "execution_count": null,
   "metadata": {},
   "outputs": [],
   "source": []
  },
  {
   "cell_type": "code",
   "execution_count": null,
   "metadata": {},
   "outputs": [],
   "source": []
  }
 ],
 "metadata": {
  "kernelspec": {
   "display_name": "Python 3",
   "language": "python",
   "name": "python3"
  },
  "language_info": {
   "codemirror_mode": {
    "name": "ipython",
    "version": 3
   },
   "file_extension": ".py",
   "mimetype": "text/x-python",
   "name": "python",
   "nbconvert_exporter": "python",
   "pygments_lexer": "ipython3",
   "version": "3.6.6"
  }
 },
 "nbformat": 4,
 "nbformat_minor": 2
}
