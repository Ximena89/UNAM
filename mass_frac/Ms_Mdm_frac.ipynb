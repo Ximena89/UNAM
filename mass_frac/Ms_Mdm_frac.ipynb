{
 "cells": [
  {
   "cell_type": "markdown",
   "metadata": {},
   "source": [
    "Project: Baryon mass fraction from galaxies at z=0 from survey"
   ]
  },
  {
   "cell_type": "code",
   "execution_count": 2,
   "metadata": {},
   "outputs": [],
   "source": [
    "import numpy as np\n",
    "import matplotlib.pyplot as plt\n",
    "import astropy.units as u\n",
    "import scipy\n",
    "from astropy import constants as const\n",
    "from scipy import optimize\n",
    "import scipy.integrate as integrate\n",
    "from scipy.integrate import quad \n",
    "from scipy.special import *\n",
    "import math"
   ]
  },
  {
   "cell_type": "code",
   "execution_count": 3,
   "metadata": {},
   "outputs": [],
   "source": [
    "# Sersic general equation for any n. Eq. 2.22 from Galaxy Formation & Evolution \n",
    "# Need to define Reff first\n",
    "\n",
    "def Reff(a, b, g, M0, Ms):\n",
    "    #Efficetive radius of a galaxy @ which  half of the total light of the system is emitted.\n",
    "    #Mosleh 2013  eq:4 for parameters a,b,g\n",
    "    #input Ms, M0 units\n",
    "    #output: radius units: kpc\n",
    "    \n",
    "    return g*(Ms**a)*(1+(Ms/M0))**(b-a)\n",
    "\n",
    "\n",
    "def sersic_mass_profile(I0, n, Re, r):\n",
    "    # The surface brightness profile of spheroidal galaxies is generally well fit by the Sersic profile\n",
    "    # Compare to sersic mass density \n",
    "    # I(R) = I0*exp[-Bn(R/Re)**(1/n)] = Ie*exp[-Bn{(R/Re)**(1/n)-1}]\n",
    "    # I0 = Ie*exp(Bn)\n",
    "    # Bn 2n-0.324 (but only for n=>1) (B beta)\n",
    "    \n",
    "    #Re = Reff(a, b, g, M0, Ms)\n",
    "    Bn = 2*n-0.324\n",
    "    ratio = (r/Re)**(1/n)\n",
    "    exponent = -Bn*ratio\n",
    "    \n",
    "    return I0*np.exp(exponent)\n",
    "\n",
    "# Total luminosity. Eq. 2.24 from Galaxy Formation & Evolution \n",
    "# The total luminosity of a spherical system with a Sersic profile is given by this equation.\n",
    "# Compare to mass_prof_disk/sph from old code \n",
    "\n"
   ]
  },
  {
   "cell_type": "code",
   "execution_count": 5,
   "metadata": {},
   "outputs": [
    {
     "data": {
      "image/png": "[encoded data removed]",
      "text/plain": [
       "<Figure size 432x288 with 1 Axes>"
      ]
     },
     "metadata": {
      "needs_background": "light"
     },
     "output_type": "display_data"
    }
   ],
   "source": [
    "r = radius = np.logspace(-2, 1.4, 50)\n",
    "\n",
    "sm_n1 = sersic_mass_profile(1, 1, 1, r)\n",
    "sm_n4 = sersic_mass_profile(1, 4, 1, r)\n",
    "\n",
    "plt.title('Sersic profile')\n",
    "plt.plot(r, np.log(sm_n1), '-', color='teal', label='n=1')\n",
    "plt.plot(r, np.log(sm_n4), '-', color='salmon', label='n=4')\n",
    "plt.xlabel('Radius')\n",
    "plt.ylabel('Mass')\n",
    "plt.legend(loc=9, bbox_to_anchor=(0.1, -0.1), ncol=1)\n",
    "plt.show()"
   ]
  },
  {
   "cell_type": "code",
   "execution_count": null,
   "metadata": {},
   "outputs": [],
   "source": []
  }
 ],
 "metadata": {
  "kernelspec": {
   "display_name": "Python 3",
   "language": "python",
   "name": "python3"
  },
  "language_info": {
   "codemirror_mode": {
    "name": "ipython",
    "version": 3
   },
   "file_extension": ".py",
   "mimetype": "text/x-python",
   "name": "python",
   "nbconvert_exporter": "python",
   "pygments_lexer": "ipython3",
   "version": "3.6.6"
  }
 },
 "nbformat": 4,
 "nbformat_minor": 2
}
